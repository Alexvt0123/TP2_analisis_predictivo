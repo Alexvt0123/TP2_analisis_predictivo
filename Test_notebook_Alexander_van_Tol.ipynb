{
 "cells": [
  {
   "cell_type": "code",
   "execution_count": null,
   "id": "5210fd9a",
   "metadata": {},
   "outputs": [],
   "source": [
    "#Standaard imports\n",
    "import pickle\n",
    "\n",
    "import numpy as np\n",
    "import pandas as pd\n",
    "from pandas_summary import DataFrameSummary\n",
    "import matplotlib.pyplot as plt\n",
    "from sklearn.preprocessing import MultiLabelBinarizer\n",
    "from tqdm import tqdm\n",
    "from feature_engine.encoding import OneHotEncoder\n",
    "from sklearn import set_config\n",
    "from sklearn.base import clone\n",
    "from sklearn.ensemble import BaggingRegressor\n",
    "from sklearn.preprocessing import MinMaxScaler\n",
    "from feature_engine.encoding import OneHotEncoder\n",
    "from sklearn.neighbors import KNeighborsClassifier\n",
    "from sklearn.model_selection import train_test_split, ParameterGrid\n",
    "from sklearn.linear_model import LinearRegression\n",
    "from sklearn.ensemble import RandomForestRegressor\n",
    "from sklearn.preprocessing import LabelEncoder\n",
    "from skmultilearn.problem_transform import LabelPowerset\n",
    "from sklearn_pandas import DataFrameMapper\n",
    "from sklearn.metrics import mean_squared_error\n",
    "from sklearn.metrics import accuracy_score\n",
    "from sklearn.pipeline import Pipeline\n",
    "from sklearn.ensemble import AdaBoostRegressor\n",
    "from sklearn.tree import DecisionTreeRegressor\n",
    "from sklearn.ensemble import GradientBoostingRegressor\n",
    "from sklearn.ensemble import RandomForestClassifier"
   ]
  },
  {
   "cell_type": "code",
   "execution_count": null,
   "id": "52efdc50",
   "metadata": {},
   "outputs": [],
   "source": [
    "dft= pd.read_csv(\"testear.csv\")"
   ]
  },
  {
   "cell_type": "code",
   "execution_count": null,
   "id": "66c5f533",
   "metadata": {},
   "outputs": [],
   "source": [
    "dft= dft.drop('Unnamed: 0', axis=1) ##Voorbereiden van test data"
   ]
  },
  {
   "cell_type": "code",
   "execution_count": null,
   "id": "d38283e2",
   "metadata": {},
   "outputs": [],
   "source": [
    "dft= dft.dropna(subset=['genres_x'])"
   ]
  },
  {
   "cell_type": "code",
   "execution_count": null,
   "id": "682cd1c2",
   "metadata": {},
   "outputs": [],
   "source": [
    "dft['endYear'] = dft['endYear'].replace(0, 2023)\n",
    "dft['Years'] = dft['endYear'] - dft['startYear']\n",
    "dft = dft.drop(columns=['startYear', 'endYear'])"
   ]
  },
  {
   "cell_type": "code",
   "execution_count": null,
   "id": "89e24183",
   "metadata": {},
   "outputs": [],
   "source": [
    "discrete_columns = []\n",
    "numerical_columns = [c for c in df.columns if df[c].dtype != 'O' and c not in discrete_columns]\n",
    "categorical_columns = [c for c in df.columns if df[c].dtype == 'O']"
   ]
  },
  {
   "cell_type": "code",
   "execution_count": null,
   "id": "8533cfbd",
   "metadata": {},
   "outputs": [],
   "source": [
    "discrete_columns = []\n",
    "numerical_columns = [c for c in df.columns if df[c].dtype != 'O' and c not in discrete_columns]\n",
    "categorical_columns = [c for c in df.columns if df[c].dtype == 'O']"
   ]
  },
  {
   "cell_type": "code",
   "execution_count": null,
   "id": "140b7507",
   "metadata": {},
   "outputs": [],
   "source": [
    "dft_num = dft[numerical_columns]"
   ]
  },
  {
   "cell_type": "code",
   "execution_count": null,
   "id": "94fd8a35",
   "metadata": {},
   "outputs": [],
   "source": [
    "dft_cat = dft[categorical_columns]"
   ]
  },
  {
   "cell_type": "code",
   "execution_count": null,
   "id": "96a373af",
   "metadata": {},
   "outputs": [],
   "source": [
    "##Data pre-processing\n",
    "def PreProc(df_num):\n",
    "    df_num.loc[:, 'episodeNumber'] = df_num.loc[:, 'episodeNumber'] .fillna(1)\n",
    "    df_num.loc[df_num.loc[:, 'episodeNumber']  == 0, 'episodeNumber'] = 1 #Every  episode that is zero or NaN is 1 --> atleast one chapter for a program\n",
    "    df_num.loc[:, 'seasonNumber'] = df_num.loc[:, 'seasonNumber'].fillna(0) #Every Nan season number gets the value 0\n",
    "    return df_num"
   ]
  },
  {
   "cell_type": "code",
   "execution_count": null,
   "id": "761b140e",
   "metadata": {},
   "outputs": [],
   "source": [
    "dft_num = PreProc(dft_num)"
   ]
  },
  {
   "cell_type": "code",
   "execution_count": null,
   "id": "9b603bc2",
   "metadata": {},
   "outputs": [],
   "source": [
    "col_idx = ['directors', 'writers']"
   ]
  },
  {
   "cell_type": "code",
   "execution_count": null,
   "id": "ee7b24ae",
   "metadata": {},
   "outputs": [],
   "source": [
    "for col in col_idx:\n",
    "    dft_cat[col] = dft_cat[col].str.lstrip('nm')\n",
    "    dft_cat[col] = dft_cat[col].str.split(',').str[0]"
   ]
  },
  {
   "cell_type": "code",
   "execution_count": null,
   "id": "08d89842",
   "metadata": {},
   "outputs": [],
   "source": [
    "dft_cat = pd.get_dummies(dft_cat, columns=['titleType'], prefix=['titleType'])"
   ]
  },
  {
   "cell_type": "code",
   "execution_count": null,
   "id": "2d30b975",
   "metadata": {},
   "outputs": [],
   "source": [
    "dft_cat['genres_x'] = dft_cat['genres_x'].str.split(',')\n",
    "dft_cat = pd.concat([dft_cat, dft_cat['genres_x'].apply(lambda x: pd.Series([1] * len(x), index=x)).fillna(0)], axis=1)"
   ]
  },
  {
   "cell_type": "code",
   "execution_count": null,
   "id": "cf95923a",
   "metadata": {},
   "outputs": [],
   "source": [
    "dft_cat.drop('genres_x', axis=1, inplace=True)"
   ]
  },
  {
   "cell_type": "code",
   "execution_count": null,
   "id": "2acc5604",
   "metadata": {},
   "outputs": [],
   "source": [
    "num_6_col = ['numVotes','isAdult', 'Years', 'runtimeMinutes','seasonNumber','episodeNumber']"
   ]
  },
  {
   "cell_type": "code",
   "execution_count": null,
   "id": "c7af6b04",
   "metadata": {},
   "outputs": [],
   "source": [
    "dft_num_6 = dft_num[num_6_col]"
   ]
  },
  {
   "cell_type": "code",
   "execution_count": null,
   "id": "abb8a86b",
   "metadata": {},
   "outputs": [],
   "source": [
    "columns_to_exclude = ['language', 'adult', 'genres_y', 'original_language', 'production_companies', 'production_countries','attributes', 'status','tagline','video']\n",
    "dft_cat_fin = dft_cat.drop(columns=columns_to_exclude)"
   ]
  },
  {
   "cell_type": "code",
   "execution_count": null,
   "id": "7d2ab363",
   "metadata": {},
   "outputs": [],
   "source": [
    "final_test = pd.concat([dft_num_6,dft_cat_fin], axis=1)"
   ]
  },
  {
   "cell_type": "code",
   "execution_count": null,
   "id": "7f67da37",
   "metadata": {},
   "outputs": [],
   "source": [
    "column_list = ['numVotes', 'isAdult', 'Years', 'runtimeMinutes', 'seasonNumber',\n",
    "       'episodeNumber', 'directors', 'writers', 'titleType_movie',\n",
    "       'titleType_short', 'titleType_tvEpisode', 'titleType_tvMiniSeries',\n",
    "       'titleType_tvMovie', 'titleType_tvSeries', 'titleType_tvShort',\n",
    "       'titleType_tvSpecial', 'titleType_video', 'titleType_videoGame',\n",
    "       'Comedy', 'Musical', 'Action', 'Adventure', 'Animation', 'Documentary',\n",
    "       'History', 'War', 'Drama', 'Mystery', 'Romance', 'Short', 'Music',\n",
    "       'Talk-Show', 'Crime', 'Horror', 'Biography', 'Western', 'Sci-Fi',\n",
    "       'Sport', 'Game-Show', 'News', 'Fantasy', 'Family', 'Reality-TV', '0',\n",
    "       'Adult', 'Thriller', 'Film-Noir']"
   ]
  },
  {
   "cell_type": "code",
   "execution_count": null,
   "id": "fa1ec3b6",
   "metadata": {},
   "outputs": [],
   "source": [
    "final_test = final_test.reindex(columns=column_list)"
   ]
  },
  {
   "cell_type": "code",
   "execution_count": null,
   "id": "09ab2097",
   "metadata": {},
   "outputs": [],
   "source": [
    "with open('saved_model.pkl', 'rb') as file:\n",
    "    model = pickle.load(file)"
   ]
  },
  {
   "cell_type": "code",
   "execution_count": null,
   "id": "bcaa202a",
   "metadata": {},
   "outputs": [],
   "source": [
    "predictions = model.predict(final_test)"
   ]
  },
  {
   "cell_type": "code",
   "execution_count": null,
   "id": "22a49f73",
   "metadata": {},
   "outputs": [],
   "source": [
    "submission = pd.DataFrame(predictions, columns=[\"averageRating\"])"
   ]
  },
  {
   "cell_type": "code",
   "execution_count": null,
   "id": "304faa00",
   "metadata": {},
   "outputs": [],
   "source": [
    "submission.index.name = \"Id\""
   ]
  },
  {
   "cell_type": "code",
   "execution_count": null,
   "id": "ae3a4f4d",
   "metadata": {},
   "outputs": [],
   "source": [
    "submission.to_csv(\"submission.csv\")"
   ]
  }
 ],
 "metadata": {
  "kernelspec": {
   "display_name": "Python 3 (ipykernel)",
   "language": "python",
   "name": "python3"
  },
  "language_info": {
   "codemirror_mode": {
    "name": "ipython",
    "version": 3
   },
   "file_extension": ".py",
   "mimetype": "text/x-python",
   "name": "python",
   "nbconvert_exporter": "python",
   "pygments_lexer": "ipython3",
   "version": "3.9.7"
  }
 },
 "nbformat": 4,
 "nbformat_minor": 5
}
